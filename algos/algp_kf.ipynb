{
 "cells": [
  {
   "cell_type": "code",
   "execution_count": 1,
   "outputs": [],
   "source": [
    "import numpy as np\n",
    "import matplotlib.pyplot as plt\n",
    "from scipy.signal import find_peaks\n",
    "from Code.Tutorial.Dataset  import load_scg\n",
    "from filterpy.kalman import KalmanFilter\n",
    "from filterpy.common import Q_discrete_white_noise"
   ],
   "metadata": {
    "collapsed": false,
    "pycharm": {
     "name": "#%%\n"
    }
   }
  },
  {
   "cell_type": "code",
   "execution_count": 2,
   "outputs": [],
   "source": [
    "def std_data(noise_level):\n",
    "    signals_train_l, labels_train_l, duration, fs = load_scg(noise_level, 'train')\n",
    "    signals_test_l, labels_test_l, _, _ = load_scg(noise_level, 'test')\n",
    "\n",
    "    signals_l_train_ls = []\n",
    "    labels_l_train_ls = []\n",
    "    for cnt, signal in enumerate(signals_train_l):\n",
    "        if max(signal) > 1:\n",
    "            continue\n",
    "        signals_l_train_ls.append(signal)\n",
    "        labels_l_train_ls.append(labels_train_l[cnt])\n",
    "\n",
    "    signals_l_test_ls = []\n",
    "    labels_l_test_ls = []\n",
    "    for cnt, signal in enumerate(signals_test_l):\n",
    "        if max(signal) > 1:\n",
    "            continue\n",
    "        signals_l_test_ls.append(signal)\n",
    "        labels_l_test_ls.append(labels_test_l[cnt])\n",
    "\n",
    "\n",
    "    signals_l_train = np.array(signals_l_train_ls)\n",
    "    signals_l_test = np.array(signals_l_test_ls)\n",
    "    labels_l_train = np.array(labels_l_train_ls)\n",
    "    labels_l_test = np.array(labels_l_test_ls)\n",
    "    print(signals_l_train.shape, labels_l_test.shape)\n",
    "\n",
    "    return labels_l_train, labels_l_test, signals_l_train, signals_l_test"
   ],
   "metadata": {
    "collapsed": false,
    "pycharm": {
     "name": "#%%\n"
    }
   }
  },
  {
   "cell_type": "code",
   "execution_count": 3,
   "outputs": [],
   "source": [
    "def segmentation(signal, rpeak):\n",
    "    begin, end = 0, 0\n",
    "    margin = rpeak[0]\n",
    "    pieces = []\n",
    "\n",
    "    for num in range(1, len(rpeak)):\n",
    "        begin = end\n",
    "        end = rpeak[num] - margin\n",
    "        pieces.append(signal[begin: end])\n",
    "    pieces.append(signal[end:])\n",
    "\n",
    "    Nmax = 0\n",
    "    for piece in pieces:\n",
    "        Nmax = max(Nmax, piece.shape[0])\n",
    "\n",
    "    pieces_padded = []\n",
    "    for piece in pieces:\n",
    "        N = Nmax - piece.shape[0]\n",
    "        pieces_padded.append(np.pad(piece, (0, N), 'constant',constant_values=piece[-1]))\n",
    "    pieces_padded = np.array(pieces_padded)\n",
    "\n",
    "    return pieces_padded"
   ],
   "metadata": {
    "collapsed": false,
    "pycharm": {
     "name": "#%%\n"
    }
   }
  },
  {
   "cell_type": "code",
   "execution_count": 4,
   "outputs": [],
   "source": [
    "def get_features(template, h, d):\n",
    "    template_peaks_, _ = find_peaks(template, height=np.max(template) * h, distance=len(template) * d)\n",
    "    template_peaks = []\n",
    "\n",
    "    if len(template_peaks_) == 2:\n",
    "        template_peaks = template_peaks_\n",
    "    elif len(template_peaks_) > 2:\n",
    "        mmax = np.argmax(template[template_peaks_])\n",
    "        template_peaks.append(template_peaks_[mmax])\n",
    "        template_peaks_ = np.delete(template_peaks_, mmax)\n",
    "        mmax2 = np.argmax(template[template_peaks_])\n",
    "        template_peaks.append(template_peaks_[mmax2])\n",
    "    elif len(template_peaks_) < 2:\n",
    "        # plt.figure()\n",
    "        # plt.plot(template)\n",
    "        # plt.scatter(template_peaks_, template[template_peaks_])\n",
    "        # plt.show()\n",
    "        return None\n",
    "\n",
    "    Nmax = len(template)\n",
    "\n",
    "    dis12 = template_peaks[1] - template_peaks[0]\n",
    "    dis21 = Nmax - dis12\n",
    "    A0 = template[template_peaks[0]]\n",
    "    A1 = template[template_peaks[1]]\n",
    "\n",
    "    show = False\n",
    "\n",
    "    if show:\n",
    "        plt.figure()\n",
    "        plt.plot(template)\n",
    "        plt.scatter(template_peaks, template[template_peaks])\n",
    "        # plt.title(f'dis12/dis21:{dis12/dis21}, A0/A1:{A0/A1}')\n",
    "        plt.show()\n",
    "\n",
    "    return [dis12/dis21, A0/A1]"
   ],
   "metadata": {
    "collapsed": false,
    "pycharm": {
     "name": "#%%\n"
    }
   }
  },
  {
   "cell_type": "code",
   "execution_count": null,
   "outputs": [],
   "source": [
    "def use_kf(pieces):\n",
    "    my_filter = KalmanFilter(dim_x=2, dim_z=1)\n",
    "\n",
    "    # 滤波器状态估计\n",
    "    my_filter.x = np.zeros((2, 1))     # initial state (location and velocity)\n",
    "    dt = 0.01\n",
    "    my_filter.F = np.array([[1, dt], [0, 1]])  # state transition matrix\n",
    "\n",
    "    my_filter.H = np.array([[1.,0.]])    # Measurement function\n",
    "    # my_filter.P *= 1000.                 # covariance matrix\n",
    "    my_filter.P = np.zeros((2, 2))         # covariance matrix\n",
    "\n",
    "\n",
    "    my_filter.R = 0.8                      # state uncertainty\n",
    "    my_filter.Q = np.array([[0.04, 0], [0, 1]]) # process uncertainty\n",
    "\n",
    "    # then, how to implement the filter?\n",
    "\n",
    "\n"
   ],
   "metadata": {
    "collapsed": false,
    "pycharm": {
     "name": "#%%\n"
    }
   }
  },
  {
   "cell_type": "code",
   "execution_count": 10,
   "outputs": [],
   "source": [
    "def KalmanFilter(pieces, std=0.8):\n",
    "    dt = 0.01\n",
    "    t = np.linspace(0, 10, 1000, endpoint=False)\n",
    "\n",
    "    X = np.zeros((2, 1)) # 2 * 1\n",
    "    P = np.zeros((2, 2)) # 2 * 2\n",
    "    X_arr = np.zeros((len(pieces[-1]), 2))\n",
    "\n",
    "    Q = np.array([[0.04, 0], [0, 1]])\n",
    "    F = np.array([[1, dt], [0, 1]])\n",
    "\n",
    "    H = np.array([1,0])\n",
    "\n",
    "    sig_var = np.ones(pieces[-1].shape) * std\n",
    "    # print(sig_var.shape)\n",
    "    # def init_kalman():\n",
    "    def prediction(X, P, Q, F):\n",
    "        # print(f'pre:{X.shape}')\n",
    "        # print(f'F:{F.shape}')\n",
    "        # print(f'X:{X.shape}')\n",
    "        X = F @ X\n",
    "        # print(f'pre:{X.shape}')\n",
    "\n",
    "        P = F @ P @ F.T + Q\n",
    "        return X, P\n",
    "\n",
    "    def update(X, P, y, R, H):\n",
    "        # Inn 1, S 1, K (2, 1)\n",
    "        Inn = y - H @ X\n",
    "        # print(f'Inn:{Inn.shape}')\n",
    "        # print(f'H:{H.shape}, P:{P.shape}, R:{R.shape}')\n",
    "        # print(R)\n",
    "        S = H @ P @ H.T + R\n",
    "        # print(f'S:{S.shape}')\n",
    "        K = P @ H.T / S\n",
    "        # print(f'K:{K.shape}')\n",
    "\n",
    "        # X(2, 1), P (2, 2)\n",
    "        X = X + K @ Inn\n",
    "        P = P - K @ H @ P\n",
    "        return X, P\n",
    "\n",
    "    for i in range(len(pieces[-1])):\n",
    "        if i == 0:\n",
    "            # X, P = init_kalman(X, pieces[0, 0])\n",
    "            X[0, 0] = pieces[0, 0]\n",
    "            X[1, 0] = 0\n",
    "            P = np.array([[100, 0], [0, 300]])\n",
    "        else:\n",
    "            # X(2, 1), P(2, 2), Q(2, 2) , F(2, 2)\n",
    "            X, P = prediction(X, P, Q, F)\n",
    "            for piece in pieces:\n",
    "                # H(1, 2), X(2, 1), P(2, 2), y R 1\n",
    "                X, P = update(X, P, piece[i].reshape(1, 1), sig_var[i:i+1].reshape(1, 1), H.reshape(1, 2))\n",
    "                # print(X.shape)\n",
    "\n",
    "        # print(X.shape)\n",
    "        # print(X_arr[i, :].shape)\n",
    "        X_arr[i, :] = X.T\n",
    "        # print(X_arr)\n",
    "    # print(X_arr.shape)\n",
    "    # plt.figure(figsize=(10, 1.5))\n",
    "    # plt.plot(X_arr[:, 0])\n",
    "\n",
    "    # plt.figure()\n",
    "    # for piece in pieces:\n",
    "    #     plt.plot(piece, alpha=0.2)\n",
    "    # plt.plot(pieces.mean(0), color='g')\n",
    "    # plt.plot(X_arr[:, 0], color='r')\n",
    "    return X_arr[:, 0]\n"
   ],
   "metadata": {
    "collapsed": false,
    "pycharm": {
     "name": "#%%\n"
    }
   }
  },
  {
   "cell_type": "code",
   "execution_count": 34,
   "outputs": [
    {
     "name": "stdout",
     "output_type": "stream",
     "text": [
      "(4718, 1000) (2822, 6)\n",
      "(4718, 1000) (2822, 6)\n"
     ]
    },
    {
     "name": "stderr",
     "output_type": "stream",
     "text": [
      "4718it [02:06, 37.15it/s]\n",
      "2822it [01:18, 35.86it/s]\n"
     ]
    }
   ],
   "source": [
    "from tqdm import tqdm\n",
    "if __name__=='__main__':\n",
    "    labels_0_train, labels_0_test, signals_0_train, signals_0_test = std_data(0)\n",
    "    labels_1_train, labels_1_test, signals_1_train, signals_1_test = std_data(0.1)\n",
    "\n",
    "    def extract_features_KF(signals, labels, alpha, h, d):\n",
    "        KF_featuers = []\n",
    "        for cnt, signal in tqdm(enumerate(signals)):\n",
    "            hr = labels[cnt, 2]\n",
    "            large_peaks, _ = find_peaks(signal, height=np.max(signal)*0.3, distance=5000//(hr*alpha))\n",
    "            pieces = segmentation(signal, large_peaks)\n",
    "            template_kf = KalmanFilter(pieces, 0.8)\n",
    "            features = get_features(template_kf, h, d)\n",
    "            KF_featuers.append(features)\n",
    "            # plt.plot(template_kf)\n",
    "            # plt.show()\n",
    "            # if cnt > echo:\n",
    "            #     break\n",
    "        return np.array(KF_featuers)\n",
    "\n",
    "    # echo1, echo2 = 2000, 1000\n",
    "    KF_features_train = extract_features_KF(signals_1_train, labels_1_train, 1, 0.1, 0.15)\n",
    "    KF_features_test = extract_features_KF(signals_1_test, labels_1_test, 1.2, 0.12, 0.12)\n",
    "\n",
    "# h d 0.1, 0.15\n",
    "# h d 0.12, 0.12"
   ],
   "metadata": {
    "collapsed": false,
    "pycharm": {
     "name": "#%%\n"
    }
   }
  },
  {
   "cell_type": "code",
   "execution_count": 24,
   "outputs": [],
   "source": [
    "import numpy as np\n",
    "import matplotlib.pyplot as plt\n",
    "\n",
    "def calc_mae(gt, pred):\n",
    "    return np.mean(abs(np.array(gt) - np.array(pred)))\n",
    "\n",
    "def plot_2vectors(label, pred, save=False, name=None, path=None):\n",
    "    \"\"\"lsit1: label, list2: prediction\"\"\"\n",
    "\n",
    "    list1 = label\n",
    "    list2 = np.array(pred)\n",
    "    if list2.ndim == 2:\n",
    "        mae = calc_mae(list1, list2[:, 0])\n",
    "    else:\n",
    "        mae = calc_mae(list1, list2)\n",
    "\n",
    "    sorted_id = sorted(range(len(list1)), key=lambda k: list1[k])\n",
    "\n",
    "    plt.clf()\n",
    "    plt.text(0, np.min(list2), f'MAE={mae}')\n",
    "\n",
    "    plt.scatter(np.arange(list2.shape[0]), list2[sorted_id], s=1, alpha=0.5, label=f'{name} prediction', color='blue')\n",
    "    plt.scatter(np.arange(list1.shape[0]), list1[sorted_id], s=1, alpha=0.5, label=f'{name} label', color='red')\n",
    "    plt.legend(loc='lower right')\n",
    "\n",
    "    if save:\n",
    "        if path is None:\n",
    "            raise ValueError(\"If save is True, 'path' argument must be provided.\")\n",
    "        plt.savefig(f'{path}.jpg', dpi=300)\n",
    "        print(f'Saved plot to {path}.jpg')\n",
    "\n",
    "    plt.show()\n"
   ],
   "metadata": {
    "collapsed": false,
    "pycharm": {
     "name": "#%%\n"
    }
   }
  },
  {
   "cell_type": "code",
   "execution_count": 35,
   "outputs": [
    {
     "data": {
      "text/plain": "<Figure size 432x288 with 1 Axes>",
      "image/png": "[encoded data removed]"
     },
     "metadata": {
      "needs_background": "light"
     },
     "output_type": "display_data"
    },
    {
     "name": "stdout",
     "output_type": "stream",
     "text": [
      "1.3733441313274939\n"
     ]
    },
    {
     "data": {
      "text/plain": "<Figure size 432x288 with 1 Axes>",
      "image/png": "[encoded data removed]"
     },
     "metadata": {
      "needs_background": "light"
     },
     "output_type": "display_data"
    },
    {
     "data": {
      "text/plain": "<Figure size 432x288 with 1 Axes>",
      "image/png": "[encoded data removed]"
     },
     "metadata": {
      "needs_background": "light"
     },
     "output_type": "display_data"
    },
    {
     "name": "stdout",
     "output_type": "stream",
     "text": [
      "4.6083232954675575\n"
     ]
    },
    {
     "data": {
      "text/plain": "<Figure size 432x288 with 1 Axes>",
      "image/png": "[encoded data removed]"
     },
     "metadata": {
      "needs_background": "light"
     },
     "output_type": "display_data"
    }
   ],
   "source": [
    "from sklearn.linear_model import LinearRegression as LR\n",
    "# from Code.Tutorial.utils import plot_2vectors\n",
    "\n",
    "def plot_plot(features_train, features_test, labels_train, labels_test, title):\n",
    "    plt.figure()\n",
    "    plt.scatter(np.array(features_train), labels_train)\n",
    "    plt.scatter(np.array(features_test), labels_test)\n",
    "    plt.show()\n",
    "\n",
    "    reg = LR().fit(np.array(features_train).reshape(-1, 1), labels_train)\n",
    "    yhat = reg.predict(np.array(features_test).reshape(-1, 1))\n",
    "    print(np.mean(np.abs(yhat - labels_test)))\n",
    "\n",
    "    plot_2vectors(labels_test, yhat, False, title)\n",
    "\n",
    "plot_plot(KF_features_train[:echo1+2, 0],KF_features_test[:echo2+2, 0],labels_0_train[:echo1+2, 4],labels_0_test[:echo2+2, 4],'S_Template_DBA')\n",
    "plot_plot(KF_features_train[:echo1+2, 1],KF_features_test[:echo2+2, 1],labels_0_train[:echo1+2, 5],labels_0_test[:echo2+2, 5],'D_Template_DBA')"
   ],
   "metadata": {
    "collapsed": false,
    "pycharm": {
     "name": "#%%\n"
    }
   }
  },
  {
   "cell_type": "code",
   "execution_count": null,
   "outputs": [],
   "source": [
    "# 0.75\n",
    "# 1.36 4.95\n",
    "\n",
    "# 0.8\n",
    "# 1.45, 4.82\n",
    "# 1.37, 4.95\n",
    "\n",
    "# 0.85\n",
    "\n",
    "# 0.9\n",
    "# 1.43, 4.96\n",
    "\n",
    "# 0.95\n",
    "# 1.40, 4.97"
   ],
   "metadata": {
    "collapsed": false,
    "pycharm": {
     "name": "#%%\n"
    }
   }
  },
  {
   "cell_type": "code",
   "execution_count": 23,
   "outputs": [
    {
     "data": {
      "text/plain": "((12,), (12,), (11,), (11,))"
     },
     "execution_count": 23,
     "metadata": {},
     "output_type": "execute_result"
    }
   ],
   "source": [
    "template_features_train[:, 0].shape,template_features_test[:, 0].shape,labels_0_train[:11, 4].shape,labels_0_test[:11, 4].shape"
   ],
   "metadata": {
    "collapsed": false,
    "pycharm": {
     "name": "#%%\n"
    }
   }
  },
  {
   "cell_type": "code",
   "execution_count": null,
   "outputs": [],
   "source": [],
   "metadata": {
    "collapsed": false,
    "pycharm": {
     "name": "#%%\n"
    }
   }
  }
 ],
 "metadata": {
  "kernelspec": {
   "display_name": "Python 3",
   "language": "python",
   "name": "python3"
  },
  "language_info": {
   "codemirror_mode": {
    "name": "ipython",
    "version": 2
   },
   "file_extension": ".py",
   "mimetype": "text/x-python",
   "name": "python",
   "nbconvert_exporter": "python",
   "pygments_lexer": "ipython2",
   "version": "2.7.6"
  }
 },
 "nbformat": 4,
 "nbformat_minor": 0
}