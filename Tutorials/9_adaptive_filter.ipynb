{
 "cells": [
  {
   "cell_type": "code",
   "execution_count": 1,
   "metadata": {},
   "outputs": [
    {
     "ename": "SyntaxError",
     "evalue": "invalid syntax (3661996714.py, line 3)",
     "output_type": "error",
     "traceback": [
      "\u001b[0;36m  Cell \u001b[0;32mIn[1], line 3\u001b[0;36m\u001b[0m\n\u001b[0;31m    **Reference:** https://schaumont.dyn.wpi.edu/ece4703b20/lecture9.html\u001b[0m\n\u001b[0m    ^\u001b[0m\n\u001b[0;31mSyntaxError\u001b[0m\u001b[0;31m:\u001b[0m invalid syntax\n"
     ]
    }
   ],
   "source": [
    "### Adaptive Filter\n",
    "\n",
    "**Reference:** https://schaumont.dyn.wpi.edu/ece4703b20/lecture9.html\n",
    "\n",
    "#### Basic Adaptive Filter\n",
    "An adaptive filter is a filter with non-constant coefficients. The filter coefficients are adjusted based on an criterium which is often defined to optimize the performance of the filter in its ability to estimate an unknown quantity in an input signal.\n",
    "\n",
    "In this lecture, we will limit ourselves to adaptive FIR filters. The basic outline of an adaptive FIR filter is shown in the following figure. The filter accepts an input signal x and produces an output signal y. The FIR coefficients of this filter are adjustable, meaning that at every new sample of x, the coefficients can take on a new value. The new value of filter coefficients is determined using a coefficient update algorithm, which computes an adjustment for each filter coefficient based on an error signal e. The error signal e is typically computed as the difference between the actual output signal y and a desired output signal d.\n",
    "\n",
    "![Basic Adaptive Filter](https://schaumont.dyn.wpi.edu/ece4703b20/_images/adaptive.jpg)\n",
    "The desired output signal d depends on the specific application of the adaptive filter. However, the adaptive algorithm will change the coefficients so as to minimize the mean squared value of the error signal e. That is, given that the filter output is defined by filter coefficients $w(n) = {\\left[w_0(n), w_1(n), ..., w_{N-1}(n)\\right]}^T$. we try to minimize the expected square error: $\\min_{w(n)} E\\left[ e^2(n)\\right]$\n",
    "\n",
    "There are generally four different configurations common for an adaptive filter:\n",
    "1. System Identification\n",
    "2. Noise Cancellation\n",
    "3. Equalization\n",
    "4. Adaptive Prediction"
   ]
  },
  {
   "cell_type": "code",
   "execution_count": null,
   "metadata": {},
   "outputs": [],
   "source": [
    "#### Adaptive Filter for System Identification\n",
    "\n",
    "![System Identification](https://schaumont.dyn.wpi.edu/ece4703b20/_images/systemid.jpg)\n",
    "In system identification, we observe an unknown system and compare its output to an adaptive filter. By applying broadband noise to the input, and by minimizing the error signal, the filter coefficients will converge to a set of coefficients that reflect the characteristic of the unknown system. This approximation is best-effort; known the filter coefficients of the adaptive filter does not imply that we can reveal the internal structure of the unknown system. For example, the unknown system could be an IIR filter, while the adaptive filter has an FIR design. Or, the unknown system could include non-linear behavior, while the adaptive filter has an FIR design."
   ]
  },
  {
   "cell_type": "code",
   "execution_count": null,
   "metadata": {},
   "outputs": [],
   "source": [
    "#### Adaptive Filter for Noise Cancellation\n",
    "\n",
    "![Noise Cancellation](https://schaumont.dyn.wpi.edu/ece4703b20/_images/noisecancellation.jpg)\n",
    "\n",
    "In Noise Cancellation, we are interested in removing a known disturbance n_1 from a signal. The disturbance is affected by the system dynamics H(z) into n_0, so that we are unsure how much the input signal is affected by the disturbance. Using an adaptive filter, we estimate the system dynamics (in a similar fashion as with system identification), and we remove the filtered disturbance from the output signal. The output signal, in the case of noise cancellation, is created out of the error signal, which in this case will closely resembly the input signal x.\n",
    "\n",
    "![Echo Cancellation](https://schaumont.dyn.wpi.edu/ece4703b20/_images/echocancellation.jpg)\n",
    "\n",
    "A well-known application for this setup is echo cancellation in speakerphone design. In this case, the input signal is the speech signal from the local side, and the disturbance is the speech signal from the remote side. The remote speech signal is played back on the local speaker and picked up by the local microphone. The adaptive filter will estimate this local feedback and remote it from the output signal, thereby preventing the return of an echo to the remote side."
   ]
  },
  {
   "cell_type": "code",
   "execution_count": null,
   "metadata": {},
   "outputs": [],
   "source": [
    "#### Adaptive Filter for Equalization\n",
    "![Equalization](https://schaumont.dyn.wpi.edu/ece4703b20/_images/equalization.jpg)\n",
    "In equalization, we are using an adaptive filter to remove (linear) distortions from a received signal. This is a common problem in data communictions, when signals are distored by a non-allpass communications channel. The adaptive filter creates an inverse response to the distortion, using a delayed version of the correct input signal x, in order to restore the received signal to its original form.\n",
    "\n",
    "One may wonder how such a delayed version of x can be transmitted, when it’s not possible to transmit the real-time version x. The answer is that this delayed x does not have to be identical to the real-time x. In other words, the equalizer can first go through a training phase, during which the coefficients are adapted in order to match the characteristics of the communications channel. Next, the adaptive filter coefficients are fixed, and the real-time x transmission can start."
   ]
  }
 ],
 "metadata": {
  "kernelspec": {
   "display_name": "py38",
   "language": "python",
   "name": "python3"
  },
  "language_info": {
   "codemirror_mode": {
    "name": "ipython",
    "version": 3
   },
   "file_extension": ".py",
   "mimetype": "text/x-python",
   "name": "python",
   "nbconvert_exporter": "python",
   "pygments_lexer": "ipython3",
   "version": "3.8.19"
  }
 },
 "nbformat": 4,
 "nbformat_minor": 2
}
